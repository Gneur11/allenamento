{
 "cells": [
  {
   "cell_type": "code",
   "execution_count": 19,
   "metadata": {},
   "outputs": [
    {
     "name": "stderr",
     "output_type": "stream",
     "text": [
      "C:\\Users\\gneur\\Anaconda3\\lib\\site-packages\\IPython\\core\\interactiveshell.py:2785: DtypeWarning: Columns (4,6,31,33,61,62,63,76,79,90,92,94,96,114,115,121) have mixed types. Specify dtype option on import or set low_memory=False.\n",
      "  interactivity=interactivity, compiler=compiler, result=result)\n"
     ]
    }
   ],
   "source": [
    "import pandas as pd\n",
    "import matplotlib.pyplot as plt\n",
    "import seaborn as sns\n",
    "\n",
    "data = pd.read_csv(\"terror.csv\",encoding='ISO-8859-1')\n",
    "data = data[[\"iyear\",\"imonth\",\"iday\",\"country\",\"country_txt\",\"extended\",\"region\",\n",
    "            \"region_txt\",\"provstate\",\"summary\",\"success\",\"suicide\",\"attacktype1\",\"attacktype1_txt\"\n",
    "            ,\"targtype1\",\"targtype1_txt\",\"natlty1\",\"gname\",\"weaptype1\",\"weaptype1_txt\",\"nkill\",\"nwound\"\n",
    "           ]]"
   ]
  },
  {
   "cell_type": "code",
   "execution_count": 20,
   "metadata": {},
   "outputs": [
    {
     "name": "stdout",
     "output_type": "stream",
     "text": [
      "<class 'pandas.core.frame.DataFrame'>\n",
      "Int64Index: 107276 entries, 5 to 181690\n",
      "Data columns (total 23 columns):\n",
      "iyear              107276 non-null int64\n",
      "imonth             107276 non-null int64\n",
      "iday               107276 non-null int64\n",
      "country            107276 non-null int64\n",
      "country_txt        107276 non-null object\n",
      "extended           107276 non-null int64\n",
      "region             107276 non-null int64\n",
      "region_txt         107276 non-null object\n",
      "provstate          107276 non-null object\n",
      "summary            107276 non-null object\n",
      "success            107276 non-null int64\n",
      "suicide            107276 non-null int64\n",
      "attacktype1        107276 non-null int64\n",
      "attacktype1_txt    107276 non-null object\n",
      "targtype1          107276 non-null int64\n",
      "targtype1_txt      107276 non-null object\n",
      "natlty1            106172 non-null float64\n",
      "gname              107276 non-null object\n",
      "weaptype1          107276 non-null int64\n",
      "weaptype1_txt      107276 non-null object\n",
      "nkill              106968 non-null float64\n",
      "nwound             107276 non-null float64\n",
      "motive             47655 non-null object\n",
      "dtypes: float64(3), int64(11), object(9)\n",
      "memory usage: 19.6+ MB\n"
     ]
    }
   ],
   "source": [
    "data = data.dropna(axis=0, subset=['summary',\"provstate\",\"nwound\"])"
   ]
  },
  {
   "cell_type": "code",
   "execution_count": 25,
   "metadata": {},
   "outputs": [
    {
     "data": {
      "text/plain": [
       "{'whiskers': [<matplotlib.lines.Line2D at 0x1e8d919f198>,\n",
       "  <matplotlib.lines.Line2D at 0x1e8e62360b8>],\n",
       " 'caps': [<matplotlib.lines.Line2D at 0x1e8d8ae9128>,\n",
       "  <matplotlib.lines.Line2D at 0x1e8d8234eb8>],\n",
       " 'boxes': [<matplotlib.lines.Line2D at 0x1e8d9c1a0f0>],\n",
       " 'medians': [<matplotlib.lines.Line2D at 0x1e8d8234c88>],\n",
       " 'fliers': [<matplotlib.lines.Line2D at 0x1e8d8234828>],\n",
       " 'means': []}"
      ]
     },
     "execution_count": 25,
     "metadata": {},
     "output_type": "execute_result"
    },
    {
     "data": {
      "image/png": "[encoded data removed]",
      "text/plain": [
       "<Figure size 432x288 with 1 Axes>"
      ]
     },
     "metadata": {
      "needs_background": "light"
     },
     "output_type": "display_data"
    }
   ],
   "source": [
    "plt.boxplot(data[\"iyear\"])"
   ]
  },
  {
   "cell_type": "code",
   "execution_count": 30,
   "metadata": {
    "scrolled": false
   },
   "outputs": [
    {
     "data": {
      "image/png": "[encoded data removed]",
      "text/plain": [
       "<Figure size 1080x360 with 1 Axes>"
      ]
     },
     "metadata": {
      "needs_background": "light"
     },
     "output_type": "display_data"
    }
   ],
   "source": [
    "data = data[data[\"iyear\"] > 1990]\n",
    "fig = plt.figure(figsize = (15,5))\n",
    "fig = sns.countplot(data[\"iyear\"])\n",
    "plt.show()"
   ]
  },
  {
   "cell_type": "code",
   "execution_count": 70,
   "metadata": {},
   "outputs": [
    {
     "data": {
      "text/plain": [
       "Iraq                                23251\n",
       "Pakistan                            12264\n",
       "Afghanistan                         11880\n",
       "India                                8708\n",
       "Philippines                          4795\n",
       "Thailand                             3598\n",
       "Somalia                              2986\n",
       "Nigeria                              2856\n",
       "Yemen                                2852\n",
       "Colombia                             2175\n",
       "Egypt                                1963\n",
       "Libya                                1924\n",
       "Russia                               1881\n",
       "Turkey                               1879\n",
       "Ukraine                              1561\n",
       "Algeria                              1512\n",
       "Syria                                1495\n",
       "West Bank and Gaza Strip             1287\n",
       "United Kingdom                       1200\n",
       "Israel                               1145\n",
       "Nepal                                1118\n",
       "Bangladesh                           1063\n",
       "Sri Lanka                             870\n",
       "United States                         683\n",
       "Sudan                                 673\n",
       "Lebanon                               626\n",
       "Greece                                597\n",
       "Democratic Republic of the Congo      583\n",
       "Indonesia                             582\n",
       "Kenya                                 562\n",
       "                                    ...  \n",
       "Iran                                  155\n",
       "South Africa                          151\n",
       "Mozambique                            135\n",
       "Italy                                 134\n",
       "Georgia                               128\n",
       "China                                 128\n",
       "Mexico                                119\n",
       "Macedonia                             109\n",
       "Angola                                104\n",
       "Chile                                  99\n",
       "Niger                                  99\n",
       "Yugoslavia                             96\n",
       "Tunisia                                94\n",
       "Ethiopia                               88\n",
       "Sweden                                 85\n",
       "Paraguay                               79\n",
       "Peru                                   78\n",
       "Chad                                   59\n",
       "Canada                                 59\n",
       "Venezuela                              58\n",
       "Malaysia                               56\n",
       "Ivory Coast                            52\n",
       "Australia                              51\n",
       "Tanzania                               49\n",
       "Senegal                                48\n",
       "Burkina Faso                           46\n",
       "Bosnia-Herzegovina                     46\n",
       "Japan                                  44\n",
       "Jordan                                 43\n",
       "Tajikistan                             42\n",
       "Name: country_txt, Length: 74, dtype: int64"
      ]
     },
     "execution_count": 70,
     "metadata": {},
     "output_type": "execute_result"
    }
   ],
   "source": [
    "country = data[\"country_txt\"].value_counts() \n",
    "country = country[country >40]\n",
    "country"
   ]
  },
  {
   "cell_type": "code",
   "execution_count": 73,
   "metadata": {},
   "outputs": [
    {
     "data": {
      "image/png": "[encoded data removed]",
      "text/plain": [
       "<Figure size 1080x360 with 1 Axes>"
      ]
     },
     "metadata": {
      "needs_background": "light"
     },
     "output_type": "display_data"
    }
   ],
   "source": [
    "fig = plt.figure(figsize = (15,5))\n",
    "fig = plt.bar(country.index,country)\n",
    "plt.show()"
   ]
  }
 ],
 "metadata": {
  "kernelspec": {
   "display_name": "Python 3",
   "language": "python",
   "name": "python3"
  },
  "language_info": {
   "codemirror_mode": {
    "name": "ipython",
    "version": 3
   },
   "file_extension": ".py",
   "mimetype": "text/x-python",
   "name": "python",
   "nbconvert_exporter": "python",
   "pygments_lexer": "ipython3",
   "version": "3.6.6"
  }
 },
 "nbformat": 4,
 "nbformat_minor": 2
}
